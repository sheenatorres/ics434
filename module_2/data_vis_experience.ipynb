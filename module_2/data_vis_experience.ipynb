{
 "cells": [
  {
   "cell_type": "markdown",
   "id": "8b1a4ff6",
   "metadata": {},
   "source": [
    "#### 1. Reproducing a plot\n",
    "1. Use `numpy`'s `random` module to generate a random list of size 1000 of the following three categories: \"CS\", \"Engineering\", \"Math\" and \"Physics\"\n",
    "  1.1 Use a seed of 42\n",
    "2. Store the data in an array called my `students_affiliations`\n",
    "3. use `matplotlib` to plot the data in `students_affiliations` to reproduce the following graph\n",
    " 3.1 The plot uses \"#FF5733\" as color with an alpha (transparency) of 0.55.\n",
    "\n",
    "* Your graph should look exactly like the one below\n",
    "\n",
    "![](https://www.dropbox.com/s/ffmu62es6d7evh5/experience_fig.png?dl=1)"
   ]
  },
  {
   "cell_type": "code",
   "execution_count": 306,
   "outputs": [],
   "source": [
    "import random\n",
    "import matplotlib.pyplot as plt"
   ],
   "metadata": {
    "collapsed": false,
    "pycharm": {
     "name": "#%%\n"
    }
   }
  },
  {
   "cell_type": "code",
   "execution_count": 307,
   "outputs": [],
   "source": [
    "random.seed(42)\n",
    "disciplines = [\"Physics\", \"CS\", \"Math\", \"Engineering\"]\n",
    "students_affiliations = random.choices(disciplines, k=1000)\n",
    "\n",
    "cs_count = students_affiliations.count(\"CS\")\n",
    "engineering_count = students_affiliations.count(\"Engineering\")\n",
    "math_count = students_affiliations.count(\"Math\")\n",
    "physics_count = students_affiliations.count(\"Physics\")\n",
    "\n",
    "counts = [cs_count, engineering_count, math_count, physics_count]\n",
    "counts_sorted = sorted(counts, reverse=True)"
   ],
   "metadata": {
    "collapsed": false,
    "pycharm": {
     "name": "#%%\n"
    }
   }
  },
  {
   "cell_type": "code",
   "execution_count": 308,
   "outputs": [
    {
     "data": {
      "text/plain": "Text(0.5, 1.0, 'Distribution of Students in the Program')"
     },
     "execution_count": 308,
     "metadata": {},
     "output_type": "execute_result"
    },
    {
     "data": {
      "text/plain": "<Figure size 432x288 with 1 Axes>",
      "image/png": "[encoded data removed]"
     },
     "metadata": {
      "needs_background": "light"
     },
     "output_type": "display_data"
    }
   ],
   "source": [
    "plt.bar(disciplines, counts_sorted, color='#FF5733', alpha=0.55)\n",
    "\n",
    "plt.xlabel(\"Disciplines\")\n",
    "plt.ylabel(\"Counts\")\n",
    "plt.title(\"Distribution of Students in the Program\", color='g')"
   ],
   "metadata": {
    "collapsed": false,
    "pycharm": {
     "name": "#%%\n"
    }
   }
  },
  {
   "cell_type": "markdown",
   "id": "bf3607f3",
   "metadata": {
    "pycharm": {
     "name": "#%% md\n"
    }
   },
   "source": [
    "#### 2. Generating a scatter plot\n",
    "* Generate random data to produce a scatter plot\n",
    "  * You can use any function to generate the data\n",
    "  * Instead of using circles as symbols, you should use squares."
   ]
  },
  {
   "cell_type": "code",
   "execution_count": 309,
   "outputs": [],
   "source": [
    "import numpy as np"
   ],
   "metadata": {
    "collapsed": false,
    "pycharm": {
     "name": "#%%\n"
    }
   }
  },
  {
   "cell_type": "code",
   "execution_count": 310,
   "outputs": [
    {
     "data": {
      "text/plain": "Text(0.5, 1.0, 'Random Data Scatter Plot')"
     },
     "execution_count": 310,
     "metadata": {},
     "output_type": "execute_result"
    },
    {
     "data": {
      "text/plain": "<Figure size 432x288 with 1 Axes>",
      "image/png": "[encoded data removed]"
     },
     "metadata": {
      "needs_background": "light"
     },
     "output_type": "display_data"
    }
   ],
   "source": [
    "randomdataX = np.random.randint(1, 50, 100)\n",
    "randomdataY = np.random.randint(20, 100, 100)\n",
    "\n",
    "plt.scatter(randomdataX, randomdataY, marker='s')\n",
    "\n",
    "plt.xlabel(\"Random Data X\")\n",
    "plt.ylabel(\"Random Data Y\")\n",
    "plt.title(\"Random Data Scatter Plot\")"
   ],
   "metadata": {
    "collapsed": false,
    "pycharm": {
     "name": "#%%\n"
    }
   }
  }
 ],
 "metadata": {
  "kernelspec": {
   "display_name": "Python 3 (ipykernel)",
   "language": "python",
   "name": "python3"
  },
  "language_info": {
   "codemirror_mode": {
    "name": "ipython",
    "version": 3
   },
   "file_extension": ".py",
   "mimetype": "text/x-python",
   "name": "python",
   "nbconvert_exporter": "python",
   "pygments_lexer": "ipython3",
   "version": "3.9.7"
  }
 },
 "nbformat": 4,
 "nbformat_minor": 5
}